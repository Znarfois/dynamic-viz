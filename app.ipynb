{
 "cells": [
  {
   "cell_type": "code",
   "execution_count": 1,
   "metadata": {},
   "outputs": [],
   "source": [
    "import numpy as np\n",
    "import pandas as pd\n",
    "\n",
    "import streamlit as st\n",
    "\n",
    "from bokeh.plotting import figure\n",
    "from bokeh.models import ColumnDataSource\n",
    "from bokeh.palettes import Spectral\n",
    "from bokeh.palettes import Spectral6\n",
    "\n",
    "\n",
    "st.title('Customer Segmentation Project')\n",
    "data_load_state = st.text('Loading data...')\n",
    "\n",
    "countries = pd.read_csv('https://eskwelabs-ds5.s3-ap-southeast-1.amazonaws.com/countries_1.csv')\n",
    "df = pd.read_csv('https://eskwelabs-ds5.s3-ap-southeast-1.amazonaws.com/E_cluster_validation_data.txt', \n",
    "                 sep=',', header=None)\n",
    "data_load_state.text('Loading data...done!')\n",
    "\n",
    "\n",
    "countries = countries[:10]\n",
    "\n",
    "country = list(countries['country'])\n",
    "count = list(countries['count'].astype(int))\n",
    "\n",
    "source1 = ColumnDataSource(data=dict(country=country, count=count, color=Spectral[len(country)]))\n",
    "\n",
    "p = figure(x_range=country, plot_height=500, plot_width=800, title='Country Counts')\n",
    "p.vbar(x='country', top='count', width=0.5, color='color', legend_field=\"country\", source=source1)\n",
    "\n",
    "st.bokeh_chart(p)\n",
    "\n",
    "\n",
    "\n",
    "from sklearn.preprocessing import StandardScaler\n",
    "from sklearn.cluster import KMeans\n",
    "\n",
    "\n",
    "# normalize data\n",
    "X = df.values\n",
    "sc = StandardScaler()\n",
    "sc.fit(X)\n",
    "X = sc.transform(X)\n",
    "\n",
    "st.sidebar.markdown('Number of clusters')\n",
    "n_clusters = st.sidebar.number_input(\"k = \", value=2, step=1)\n",
    "\n",
    "clusterer = KMeans(n_clusters=n_clusters,max_iter=1000, random_state=10)\n",
    "cluster_labels = clusterer.fit_predict(X)\n",
    "\n",
    "spectral = np.hstack([Spectral6]*20)\n",
    "colors = [spectral[i] for i in cluster_labels]\n",
    "\n",
    "plot = figure(plot_height=500, plot_width=800, title='Clusters')\n",
    "source = ColumnDataSource(data=dict(x=X[:, 0], y=X[:, 1], colors=colors))\n",
    "plot.scatter('x', 'y', fill_color='colors', line_color=None, source=source)\n",
    "\n",
    "st.bokeh_chart(plot)"
   ]
  },
  {
   "cell_type": "code",
   "execution_count": null,
   "metadata": {},
   "outputs": [],
   "source": []
  }
 ],
 "metadata": {
  "kernelspec": {
   "display_name": "Python 3",
   "language": "python",
   "name": "python3"
  },
  "language_info": {
   "codemirror_mode": {
    "name": "ipython",
    "version": 3
   },
   "file_extension": ".py",
   "mimetype": "text/x-python",
   "name": "python",
   "nbconvert_exporter": "python",
   "pygments_lexer": "ipython3",
   "version": "3.8.3"
  }
 },
 "nbformat": 4,
 "nbformat_minor": 4
}
